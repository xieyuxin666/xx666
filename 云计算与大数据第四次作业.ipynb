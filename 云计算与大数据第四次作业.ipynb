{
 "cells": [
  {
   "cell_type": "code",
   "execution_count": 1,
   "id": "66ce6364",
   "metadata": {},
   "outputs": [
    {
     "name": "stdout",
     "output_type": "stream",
     "text": [
      "Collecting datascience\n",
      "  Downloading datascience-0.17.5.tar.gz (727 kB)\n",
      "     ------------------------------------- 727.3/727.3 kB 19.2 kB/s eta 0:00:00\n",
      "  Preparing metadata (setup.py): started\n",
      "  Preparing metadata (setup.py): finished with status 'done'\n",
      "Collecting folium>=0.9.1\n",
      "  Downloading folium-0.13.0-py2.py3-none-any.whl (96 kB)\n",
      "     --------------------------------------- 96.5/96.5 kB 15.4 kB/s eta 0:00:00\n",
      "Requirement already satisfied: setuptools in e:\\anaconda\\lib\\site-packages (from datascience) (63.4.1)\n",
      "Requirement already satisfied: matplotlib>=3.0.0 in e:\\anaconda\\lib\\site-packages (from datascience) (3.5.2)\n",
      "Requirement already satisfied: pandas in e:\\anaconda\\lib\\site-packages (from datascience) (1.4.4)\n",
      "Requirement already satisfied: scipy in e:\\anaconda\\lib\\site-packages (from datascience) (1.9.1)\n",
      "Requirement already satisfied: numpy in e:\\anaconda\\lib\\site-packages (from datascience) (1.21.5)\n",
      "Requirement already satisfied: ipython in e:\\anaconda\\lib\\site-packages (from datascience) (7.31.1)\n",
      "Requirement already satisfied: plotly in e:\\anaconda\\lib\\site-packages (from datascience) (5.9.0)\n",
      "Collecting branca\n",
      "  Downloading branca-0.6.0-py3-none-any.whl (24 kB)\n",
      "Requirement already satisfied: requests in e:\\anaconda\\lib\\site-packages (from folium>=0.9.1->datascience) (2.28.1)\n",
      "Requirement already satisfied: jinja2>=2.9 in e:\\anaconda\\lib\\site-packages (from folium>=0.9.1->datascience) (2.11.3)\n",
      "Requirement already satisfied: python-dateutil>=2.7 in e:\\anaconda\\lib\\site-packages (from matplotlib>=3.0.0->datascience) (2.8.2)\n",
      "Requirement already satisfied: cycler>=0.10 in e:\\anaconda\\lib\\site-packages (from matplotlib>=3.0.0->datascience) (0.11.0)\n",
      "Requirement already satisfied: pillow>=6.2.0 in e:\\anaconda\\lib\\site-packages (from matplotlib>=3.0.0->datascience) (9.2.0)\n",
      "Requirement already satisfied: packaging>=20.0 in e:\\anaconda\\lib\\site-packages (from matplotlib>=3.0.0->datascience) (21.3)\n",
      "Requirement already satisfied: pyparsing>=2.2.1 in e:\\anaconda\\lib\\site-packages (from matplotlib>=3.0.0->datascience) (3.0.9)\n",
      "Requirement already satisfied: fonttools>=4.22.0 in e:\\anaconda\\lib\\site-packages (from matplotlib>=3.0.0->datascience) (4.25.0)\n",
      "Requirement already satisfied: kiwisolver>=1.0.1 in e:\\anaconda\\lib\\site-packages (from matplotlib>=3.0.0->datascience) (1.4.2)\n",
      "Requirement already satisfied: pygments in e:\\anaconda\\lib\\site-packages (from ipython->datascience) (2.11.2)\n",
      "Requirement already satisfied: colorama in e:\\anaconda\\lib\\site-packages (from ipython->datascience) (0.4.5)\n",
      "Requirement already satisfied: matplotlib-inline in e:\\anaconda\\lib\\site-packages (from ipython->datascience) (0.1.6)\n",
      "Requirement already satisfied: prompt-toolkit!=3.0.0,!=3.0.1,<3.1.0,>=2.0.0 in e:\\anaconda\\lib\\site-packages (from ipython->datascience) (3.0.20)\n",
      "Requirement already satisfied: backcall in e:\\anaconda\\lib\\site-packages (from ipython->datascience) (0.2.0)\n",
      "Requirement already satisfied: pickleshare in e:\\anaconda\\lib\\site-packages (from ipython->datascience) (0.7.5)\n",
      "Requirement already satisfied: jedi>=0.16 in e:\\anaconda\\lib\\site-packages (from ipython->datascience) (0.18.1)\n",
      "Requirement already satisfied: decorator in e:\\anaconda\\lib\\site-packages (from ipython->datascience) (5.1.1)\n",
      "Requirement already satisfied: traitlets>=4.2 in e:\\anaconda\\lib\\site-packages (from ipython->datascience) (5.1.1)\n",
      "Requirement already satisfied: pytz>=2020.1 in e:\\anaconda\\lib\\site-packages (from pandas->datascience) (2022.1)\n",
      "Requirement already satisfied: tenacity>=6.2.0 in e:\\anaconda\\lib\\site-packages (from plotly->datascience) (8.0.1)\n",
      "Requirement already satisfied: parso<0.9.0,>=0.8.0 in e:\\anaconda\\lib\\site-packages (from jedi>=0.16->ipython->datascience) (0.8.3)\n",
      "Requirement already satisfied: MarkupSafe>=0.23 in e:\\anaconda\\lib\\site-packages (from jinja2>=2.9->folium>=0.9.1->datascience) (2.0.1)\n",
      "Requirement already satisfied: wcwidth in e:\\anaconda\\lib\\site-packages (from prompt-toolkit!=3.0.0,!=3.0.1,<3.1.0,>=2.0.0->ipython->datascience) (0.2.5)\n",
      "Requirement already satisfied: six>=1.5 in e:\\anaconda\\lib\\site-packages (from python-dateutil>=2.7->matplotlib>=3.0.0->datascience) (1.16.0)\n",
      "Requirement already satisfied: certifi>=2017.4.17 in e:\\anaconda\\lib\\site-packages (from requests->folium>=0.9.1->datascience) (2022.9.14)\n",
      "Requirement already satisfied: idna<4,>=2.5 in e:\\anaconda\\lib\\site-packages (from requests->folium>=0.9.1->datascience) (3.3)\n",
      "Requirement already satisfied: urllib3<1.27,>=1.21.1 in e:\\anaconda\\lib\\site-packages (from requests->folium>=0.9.1->datascience) (1.26.11)\n",
      "Requirement already satisfied: charset-normalizer<3,>=2 in e:\\anaconda\\lib\\site-packages (from requests->folium>=0.9.1->datascience) (2.0.4)\n",
      "Building wheels for collected packages: datascience\n",
      "  Building wheel for datascience (setup.py): started\n",
      "  Building wheel for datascience (setup.py): finished with status 'done'\n",
      "  Created wheel for datascience: filename=datascience-0.17.5-py3-none-any.whl size=732517 sha256=16f9943d2d2ff1f5f90f95c40a85ad82b653679a65c22f246df68633709a6ad7\n",
      "  Stored in directory: c:\\users\\l\\appdata\\local\\pip\\cache\\wheels\\74\\0a\\88\\e52ce8c2533663326372f4be6eba170267fb70dc6252234186\n",
      "Successfully built datascience\n",
      "Installing collected packages: branca, folium, datascience\n",
      "Successfully installed branca-0.6.0 datascience-0.17.5 folium-0.13.0\n",
      "Note: you may need to restart the kernel to use updated packages.\n"
     ]
    }
   ],
   "source": [
    "pip install datascience"
   ]
  },
  {
   "cell_type": "code",
   "execution_count": 3,
   "id": "d96209ce",
   "metadata": {},
   "outputs": [
    {
     "name": "stdout",
     "output_type": "stream",
     "text": [
      "请输入待查询的名字：谢雨馨\n"
     ]
    },
    {
     "data": {
      "text/html": [
       "<table border=\"1\" class=\"dataframe\">\n",
       "    <thead>\n",
       "        <tr>\n",
       "            <th>日期</th> <th>时间</th> <th>科目</th> <th>教室</th>\n",
       "        </tr>\n",
       "    </thead>\n",
       "    <tbody>\n",
       "        <tr>\n",
       "            <td>['2022/11/14']</td> <td>['14:30-16:30']</td> <td>['hadoop']</td> <td>['理一A311']</td>\n",
       "        </tr>\n",
       "        <tr>\n",
       "            <td>[]            </td> <td>[]             </td> <td>[]        </td> <td>[]        </td>\n",
       "        </tr>\n",
       "        <tr>\n",
       "            <td>[]            </td> <td>[]             </td> <td>[]        </td> <td>[]        </td>\n",
       "        </tr>\n",
       "        <tr>\n",
       "            <td>['2022/11/14']</td> <td>['8:30-10:30'] </td> <td>['高数']    </td> <td>['理一B311']</td>\n",
       "        </tr>\n",
       "    </tbody>\n",
       "</table>"
      ],
      "text/plain": [
       "日期             | 时间              | 科目         | 教室\n",
       "['2022/11/14'] | ['14:30-16:30'] | ['hadoop'] | ['理一A311']\n",
       "[]             | []              | []         | []\n",
       "[]             | []              | []         | []\n",
       "['2022/11/14'] | ['8:30-10:30']  | ['高数']     | ['理一B311']"
      ]
     },
     "execution_count": 3,
     "metadata": {},
     "output_type": "execute_result"
    }
   ],
   "source": [
    "import datascience\n",
    "from datascience import *\n",
    "\n",
    "def table1(data,name):\n",
    "    temp = data.where(\"姓名\",name)\n",
    "    subject = temp[2]\n",
    "    date = temp[3]\n",
    "    time = temp[4]\n",
    "    classroom = temp[5]\n",
    "    return [subject,date,time,classroom]\n",
    "\n",
    "name = input('请输入待查询的名字：')\n",
    "\n",
    "list1 = Table.read_table('C:/Users/l/Desktop/()()/hadoop.csv')\n",
    "list2 = Table.read_table('C:/Users/l/Desktop/()()/hive.csv')\n",
    "list3 = Table.read_table('C:/Users/l/Desktop/()()/spark.csv')\n",
    "list4 = Table.read_table('C:/Users/l/Desktop/()()/高数监考表.csv')\n",
    "\n",
    "\n",
    "\n",
    "infm0 = table1(list1,name)\n",
    "infm1 = table1(list2,name)\n",
    "infm2 = table1(list3,name)\n",
    "infm3 = table1(list4,name)\n",
    "\n",
    "\n",
    "date = (infm0[0],infm1[0],infm2[0],infm3[0])\n",
    "time = (infm0[1],infm1[1],infm2[1],infm3[1])\n",
    "subject = (infm0[3],infm1[3],infm2[3],infm3[3])\n",
    "classroom = (infm0[2],infm1[2],infm2[2],infm3[2])\n",
    "\n",
    "students=Table().with_columns(\"日期\",date,\"时间\",time,\"科目\",subject,\"教室\",classroom)\n",
    "students\n"
   ]
  },
  {
   "cell_type": "code",
   "execution_count": null,
   "id": "1f56ef88",
   "metadata": {},
   "outputs": [],
   "source": []
  }
 ],
 "metadata": {
  "kernelspec": {
   "display_name": "Python 3 (ipykernel)",
   "language": "python",
   "name": "python3"
  },
  "language_info": {
   "codemirror_mode": {
    "name": "ipython",
    "version": 3
   },
   "file_extension": ".py",
   "mimetype": "text/x-python",
   "name": "python",
   "nbconvert_exporter": "python",
   "pygments_lexer": "ipython3",
   "version": "3.9.13"
  }
 },
 "nbformat": 4,
 "nbformat_minor": 5
}
