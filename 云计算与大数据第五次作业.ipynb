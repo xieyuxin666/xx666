{
 "cells": [
  {
   "cell_type": "code",
   "execution_count": 7,
   "id": "d3cc4a9d",
   "metadata": {},
   "outputs": [
    {
     "name": "stdout",
     "output_type": "stream",
     "text": [
      "Requirement already satisfied: datascience in e:\\anaconda\\lib\\site-packages (0.17.5)\n",
      "Requirement already satisfied: numpy in e:\\anaconda\\lib\\site-packages (from datascience) (1.21.5)\n",
      "Requirement already satisfied: matplotlib>=3.0.0 in e:\\anaconda\\lib\\site-packages (from datascience) (3.5.2)\n",
      "Requirement already satisfied: setuptools in e:\\anaconda\\lib\\site-packages (from datascience) (63.4.1)\n",
      "Requirement already satisfied: ipython in e:\\anaconda\\lib\\site-packages (from datascience) (7.31.1)\n",
      "Requirement already satisfied: folium>=0.9.1 in e:\\anaconda\\lib\\site-packages (from datascience) (0.13.0)\n",
      "Requirement already satisfied: plotly in e:\\anaconda\\lib\\site-packages (from datascience) (5.9.0)\n",
      "Requirement already satisfied: scipy in e:\\anaconda\\lib\\site-packages (from datascience) (1.9.1)\n",
      "Requirement already satisfied: branca in e:\\anaconda\\lib\\site-packages (from datascience) (0.6.0)\n",
      "Requirement already satisfied: pandas in e:\\anaconda\\lib\\site-packages (from datascience) (1.4.4)\n",
      "Requirement already satisfied: jinja2>=2.9 in e:\\anaconda\\lib\\site-packages (from folium>=0.9.1->datascience) (2.11.3)\n",
      "Requirement already satisfied: requests in e:\\anaconda\\lib\\site-packages (from folium>=0.9.1->datascience) (2.28.1)\n",
      "Requirement already satisfied: kiwisolver>=1.0.1 in e:\\anaconda\\lib\\site-packages (from matplotlib>=3.0.0->datascience) (1.4.2)\n",
      "Requirement already satisfied: pillow>=6.2.0 in e:\\anaconda\\lib\\site-packages (from matplotlib>=3.0.0->datascience) (9.2.0)\n",
      "Requirement already satisfied: cycler>=0.10 in e:\\anaconda\\lib\\site-packages (from matplotlib>=3.0.0->datascience) (0.11.0)\n",
      "Requirement already satisfied: pyparsing>=2.2.1 in e:\\anaconda\\lib\\site-packages (from matplotlib>=3.0.0->datascience) (3.0.9)\n",
      "Requirement already satisfied: packaging>=20.0 in e:\\anaconda\\lib\\site-packages (from matplotlib>=3.0.0->datascience) (21.3)\n",
      "Requirement already satisfied: python-dateutil>=2.7 in e:\\anaconda\\lib\\site-packages (from matplotlib>=3.0.0->datascience) (2.8.2)\n",
      "Requirement already satisfied: fonttools>=4.22.0 in e:\\anaconda\\lib\\site-packages (from matplotlib>=3.0.0->datascience) (4.25.0)\n",
      "Requirement already satisfied: jedi>=0.16 in e:\\anaconda\\lib\\site-packages (from ipython->datascience) (0.18.1)\n",
      "Requirement already satisfied: pygments in e:\\anaconda\\lib\\site-packages (from ipython->datascience) (2.11.2)\n",
      "Requirement already satisfied: pickleshare in e:\\anaconda\\lib\\site-packages (from ipython->datascience) (0.7.5)\n",
      "Requirement already satisfied: prompt-toolkit!=3.0.0,!=3.0.1,<3.1.0,>=2.0.0 in e:\\anaconda\\lib\\site-packages (from ipython->datascience) (3.0.20)\n",
      "Requirement already satisfied: matplotlib-inline in e:\\anaconda\\lib\\site-packages (from ipython->datascience) (0.1.6)\n",
      "Requirement already satisfied: decorator in e:\\anaconda\\lib\\site-packages (from ipython->datascience) (5.1.1)\n",
      "Requirement already satisfied: traitlets>=4.2 in e:\\anaconda\\lib\\site-packages (from ipython->datascience) (5.1.1)\n",
      "Requirement already satisfied: colorama in e:\\anaconda\\lib\\site-packages (from ipython->datascience) (0.4.5)\n",
      "Requirement already satisfied: backcall in e:\\anaconda\\lib\\site-packages (from ipython->datascience) (0.2.0)\n",
      "Requirement already satisfied: pytz>=2020.1 in e:\\anaconda\\lib\\site-packages (from pandas->datascience) (2022.1)\n",
      "Requirement already satisfied: tenacity>=6.2.0 in e:\\anaconda\\lib\\site-packages (from plotly->datascience) (8.0.1)\n",
      "Requirement already satisfied: parso<0.9.0,>=0.8.0 in e:\\anaconda\\lib\\site-packages (from jedi>=0.16->ipython->datascience) (0.8.3)\n",
      "Requirement already satisfied: MarkupSafe>=0.23 in e:\\anaconda\\lib\\site-packages (from jinja2>=2.9->folium>=0.9.1->datascience) (2.0.1)\n",
      "Requirement already satisfied: wcwidth in e:\\anaconda\\lib\\site-packages (from prompt-toolkit!=3.0.0,!=3.0.1,<3.1.0,>=2.0.0->ipython->datascience) (0.2.5)\n",
      "Requirement already satisfied: six>=1.5 in e:\\anaconda\\lib\\site-packages (from python-dateutil>=2.7->matplotlib>=3.0.0->datascience) (1.16.0)\n",
      "Requirement already satisfied: idna<4,>=2.5 in e:\\anaconda\\lib\\site-packages (from requests->folium>=0.9.1->datascience) (3.3)\n",
      "Requirement already satisfied: certifi>=2017.4.17 in e:\\anaconda\\lib\\site-packages (from requests->folium>=0.9.1->datascience) (2022.9.14)\n",
      "Requirement already satisfied: urllib3<1.27,>=1.21.1 in e:\\anaconda\\lib\\site-packages (from requests->folium>=0.9.1->datascience) (1.26.11)\n",
      "Requirement already satisfied: charset-normalizer<3,>=2 in e:\\anaconda\\lib\\site-packages (from requests->folium>=0.9.1->datascience) (2.0.4)\n",
      "Note: you may need to restart the kernel to use updated packages.\n"
     ]
    }
   ],
   "source": [
    "pip install datascience"
   ]
  },
  {
   "cell_type": "code",
   "execution_count": 8,
   "id": "83ad7ed0",
   "metadata": {},
   "outputs": [
    {
     "name": "stdout",
     "output_type": "stream",
     "text": [
      "请输入待查询的名字：唐杰\n",
      "请输入待查询的名字：赵丹\n"
     ]
    }
   ],
   "source": [
    "import datascience \n",
    "import matplotlib\n",
    "matplotlib.use('TkAgg')\n",
    "from datascience import *\n",
    "import matplotlib.pyplot as plt\n",
    "#%matplotlib inline\n",
    "\n",
    "\n",
    "def extract_rank(data,name):\n",
    "    temp=data.where('姓名',are.equal_to(name)).column(11).item(0)\n",
    "    return temp\n",
    "\n",
    "list1=Table.read_table('C:/Users/l/Desktop/()()/20211105-utf-8.csv')\n",
    "list2=Table.read_table('C:/Users/l/Desktop/()()/20211106-utf-8.csv')\n",
    "list3=Table.read_table('C:/Users/l/Desktop/()()/20211107-utf-8.csv')\n",
    "list4=Table.read_table('C:/Users/l/Desktop/()()/20211108-utf-8.csv')\n",
    "list5=Table.read_table('C:/Users/l/Desktop/()()/20211109-utf-8.csv')\n",
    "list6=Table.read_table('C:/Users/l/Desktop/()()/20211109-1-utf-8.csv')\n",
    "list7=Table.read_table('C:/Users/l/Desktop/()()/20211110-utf-8.csv')\n",
    "\n",
    "\n",
    "\n",
    "name1 = input('请输入待查询的名字：')\n",
    "name2 = input('请输入待查询的名字：')\n",
    "\n",
    "rank1=extract_rank(list1,name1)\n",
    "rank2=extract_rank(list2,name1)\n",
    "rank3=extract_rank(list3,name1)\n",
    "rank4=extract_rank(list4,name1)\n",
    "rank5=extract_rank(list5,name1)\n",
    "rank6=extract_rank(list6,name1)\n",
    "rank7=extract_rank(list7,name1)\n",
    "\n",
    "\n",
    "rank11=extract_rank(list1,name2)\n",
    "rank22=extract_rank(list2,name2)\n",
    "rank33=extract_rank(list3,name2)\n",
    "rank44=extract_rank(list4,name2)\n",
    "rank55=extract_rank(list5,name2)\n",
    "rank66=extract_rank(list6,name2)\n",
    "rank77=extract_rank(list7,name2)\n",
    "\n",
    "rank_array1=make_array(rank1,rank2,rank3,rank4,rank5,rank6,rank7)\n",
    "rank_array2=make_array(rank11,rank22,rank33,rank44,rank55,rank66,rank77)\n",
    "result1=Table().with_columns('成绩1',rank_array1,'成绩2',rank_array2)\n",
    "#result1\n",
    "\n",
    "\n",
    "plt.plot(make_array(1,2,3,4,5,6,7),rank_array1,'o--',label=name1)\n",
    "plt.plot(make_array(1,2,3,4,5,6,7),rank_array2,'o--r',label=name2)\n",
    "plt.title(name1 +'和'+ name2 + '历次成绩趋势图')\n",
    "plt.xlabel('历次考试')\n",
    "plt.ylabel('历次考试成绩')\n",
    "plt.axis([0,10,0,750])\n",
    "plt.legend(loc='upper right')\n",
    "plt.rcParams['font.sans-serif']=['Microsoft YaHei']\n",
    "plt.grid()\n",
    "plt.show()\n",
    "\n",
    "#print(rank_array)\n",
    "\n",
    "#result2\n"
   ]
  },
  {
   "cell_type": "code",
   "execution_count": null,
   "id": "be45cc89",
   "metadata": {},
   "outputs": [],
   "source": []
  }
 ],
 "metadata": {
  "kernelspec": {
   "display_name": "Python 3 (ipykernel)",
   "language": "python",
   "name": "python3"
  },
  "language_info": {
   "codemirror_mode": {
    "name": "ipython",
    "version": 3
   },
   "file_extension": ".py",
   "mimetype": "text/x-python",
   "name": "python",
   "nbconvert_exporter": "python",
   "pygments_lexer": "ipython3",
   "version": "3.9.13"
  }
 },
 "nbformat": 4,
 "nbformat_minor": 5
}
